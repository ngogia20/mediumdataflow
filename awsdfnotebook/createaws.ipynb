{
 "cells": [
  {
   "cell_type": "code",
   "execution_count": 14,
   "id": "f5310229",
   "metadata": {
    "tags": []
   },
   "outputs": [],
   "source": [
    "def prepare_command(command: dict) -> str:\n",
    "    \"\"\"Converts dictionary command to the string formatted commands.\"\"\"\n",
    "    return f\"'{json.dumps(command)}'\"\n",
    "\n"
   ]
  },
  {
   "cell_type": "code",
   "execution_count": 15,
   "id": "d4d33202",
   "metadata": {
    "tags": []
   },
   "outputs": [],
   "source": [
    "compartment_id = \"YOU OCI Compartment ID\"\n",
    "logs_bucket_uri = \"your locbucket URI\"\n",
    "metastore_id = \"<metastore_id>\""
   ]
  },
  {
   "cell_type": "code",
   "execution_count": 16,
   "id": "00c43315",
   "metadata": {
    "tags": []
   },
   "outputs": [
    {
     "name": "stdout",
     "output_type": "stream",
     "text": [
      "The dataflow.magics extension is already loaded. To reload it, use:\n",
      "  %reload_ext dataflow.magics\n"
     ]
    }
   ],
   "source": [
    "get_ipython().run_line_magic('load_ext', 'dataflow.magics')"
   ]
  },
  {
   "cell_type": "code",
   "execution_count": 19,
   "id": "118e48c8",
   "metadata": {
    "tags": []
   },
   "outputs": [],
   "source": [
    "import json\n",
    "\n",
    "\n",
    "command = prepare_command(\n",
    "    {\n",
    "        \"compartmentId\": compartment_id,\n",
    "        \"displayName\": \"AWSDFINTEGRATION\",\n",
    "        \"language\": \"PYTHON\",\n",
    "        \"sparkVersion\": \"3.2.1\",\n",
    "        \"numExecutors\": 1,\n",
    "        \"driverShape\": \"VM.Standard.E4.Flex\",\n",
    "        \"executorShape\": \"VM.Standard.E4.Flex\",\n",
    "        \"driverShapeConfig\": {\"ocpus\": 4, \"memoryInGBs\": 32},\n",
    "        \"executorShapeConfig\": {\"ocpus\": 4, \"memoryInGBs\": 32},\n",
    "        \"type\": \"SESSION\",\n",
    "        \"logsBucketUri\": logs_bucket_uri,\n",
    "        \"archiveUri\": \"oci://yournamespace@tenancy/awsarchive.zip\",\n",
    "        \"poolId\":\"ocid1.dataflowpool.oc1.ap-mumbai-1.anrg6ljrp77apcqajnbxex6e7enl3n5xsdwosr35at2wwr52eh63cqvlb5aq\", #nikeshazure    \n",
    "        \"configuration\": {\n",
    "        \"fs.s3a.access.key\":\"YOU AWS ACCESS KEY\",\n",
    "        \"fs.s3a.secret.key\":\"YOU AWS SECRET KEY\",\n",
    "        \"fs.s3a.path.style.access\":\"true\",\n",
    "        \"fs.s3a.impl\":\"org.apache.hadoop.fs.s3a.S3AFileSystem\",\n",
    "        \"fs.s3a.endpoint\":\"s3.amazonaws.com\",\n",
    "        \"spark.hadoop.fs.s3a.aws.credentials.provider\":\"org.apache.hadoop.fs.s3a.SimpleAWSCredentialsProvider\"\n",
    "        \n",
    "        }\n",
    "    }\n",
    ")\n"
   ]
  },
  {
   "cell_type": "code",
   "execution_count": 20,
   "id": "a5b8cb40",
   "metadata": {
    "tags": []
   },
   "outputs": [
    {
     "name": "stdout",
     "output_type": "stream",
     "text": [
      "Setting up the Cluster..\n"
     ]
    },
    {
     "data": {
      "application/vnd.jupyter.widget-view+json": {
       "model_id": "4ade9ff36ca9423e994b87a5c7682cb0",
       "version_major": 2,
       "version_minor": 0
      },
      "text/plain": [
       "FloatProgress(value=0.0, bar_style='info', description='Progress:', layout=Layout(height='25px', width='50%'),…"
      ]
     },
     "metadata": {},
     "output_type": "display_data"
    },
    {
     "name": "stdout",
     "output_type": "stream",
     "text": [
      "Cluster is ready..\n",
      "Starting Spark application..\n"
     ]
    },
    {
     "data": {
      "text/html": [
       "<table>\n",
       "<tr><th>Session ID</th><th>Kind</th><th>State</th><th>Current session</th></tr><tr><td>ocid1.dataflowapplication.oc1.ap-mumbai-1.anrg6ljrp77apcqajq3y25zy7vfpy4nlgyzwexenweiilnw3amexmdm7id7a</td><td>pyspark</td><td>IN_PROGRESS</td><td><a target=\"_blank\" href=\"https://console.us-phoenix-1.oraclecloud.com/data-flow/runs/details/ocid1.dataflowrun.oc1.ap-mumbai-1.anrg6ljrp77apcqafsukle6wess2zdv2xnxiyrf2nimzdxdigibkdvdbqsyq?region=ap-mumbai-1\">Dataflow Run</a></td></tr></table>"
      ],
      "text/plain": [
       "<IPython.core.display.HTML object>"
      ]
     },
     "metadata": {},
     "output_type": "display_data"
    },
    {
     "data": {
      "application/vnd.jupyter.widget-view+json": {
       "model_id": "",
       "version_major": 2,
       "version_minor": 0
      },
      "text/plain": [
       "FloatProgress(value=0.0, bar_style='info', description='Progress:', layout=Layout(height='25px', width='50%'),…"
      ]
     },
     "metadata": {},
     "output_type": "display_data"
    },
    {
     "name": "stdout",
     "output_type": "stream",
     "text": [
      "SparkSession available as 'spark'.\n",
      "SparkContext available as 'sc'.\n"
     ]
    }
   ],
   "source": [
    "get_ipython().run_line_magic('create_session', '-l python -c $command')"
   ]
  },
  {
   "cell_type": "code",
   "execution_count": null,
   "id": "044ef28f",
   "metadata": {},
   "outputs": [],
   "source": []
  }
 ],
 "metadata": {
  "kernelspec": {
   "display_name": "Python [conda env:pyspark32_p38_cpu_v3]",
   "language": "python",
   "name": "conda-env-pyspark32_p38_cpu_v3-py"
  },
  "language_info": {
   "codemirror_mode": {
    "name": "ipython",
    "version": 3
   },
   "file_extension": ".py",
   "mimetype": "text/x-python",
   "name": "python",
   "nbconvert_exporter": "python",
   "pygments_lexer": "ipython3",
   "version": "3.8.16"
  }
 },
 "nbformat": 4,
 "nbformat_minor": 5
}
