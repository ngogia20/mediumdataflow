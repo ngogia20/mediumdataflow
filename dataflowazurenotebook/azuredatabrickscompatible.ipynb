{
 "cells": [
  {
   "cell_type": "code",
   "execution_count": 36,
   "id": "0c1e72d1",
   "metadata": {
    "tags": []
   },
   "outputs": [
    {
     "name": "stdout",
     "output_type": "stream",
     "text": [
      "The dataflow.magics extension is already loaded. To reload it, use:\n",
      "  %reload_ext dataflow.magics\n"
     ]
    }
   ],
   "source": [
    "# https://towardsdatascience.com/hands-on-introduction-to-delta-lake-with-py-spark-b39460a4b1ae\n",
    "import oci\n",
    "from delta import *\n",
    "import pyspark\n",
    "from delta.tables import *\n",
    "get_ipython().run_line_magic('load_ext', 'dataflow.magics')\n",
    "variableofdatacience=\"\""
   ]
  },
  {
   "cell_type": "code",
   "execution_count": 37,
   "id": "e1730ae7",
   "metadata": {
    "tags": []
   },
   "outputs": [
    {
     "name": "stdout",
     "output_type": "stream",
     "text": [
      "Using Active Session .. ocid1.dataflowrun.oc1.ap-mumbai-1.anrg6ljrp77apcqa67hohjygp2vktovwtjm5k7swctcbie557levi45vju2a\n"
     ]
    },
    {
     "data": {
      "application/vnd.jupyter.widget-view+json": {
       "model_id": "158d2de59a6846f79c5ea15f6d1311b8",
       "version_major": 2,
       "version_minor": 0
      },
      "text/plain": [
       "FloatProgress(value=0.0, bar_style='info', description='Progress:', layout=Layout(height='25px', width='50%'),…"
      ]
     },
     "metadata": {},
     "output_type": "display_data"
    },
    {
     "name": "stdout",
     "output_type": "stream",
     "text": [
      "Cluster is ready..\n",
      "Starting Spark application..\n"
     ]
    },
    {
     "data": {
      "text/html": [
       "<table>\n",
       "<tr><th>Session ID</th><th>Kind</th><th>State</th><th>Current session</th></tr><tr><td>ocid1.dataflowapplication.oc1.ap-mumbai-1.anrg6ljrp77apcqal54sk6dsgyp4ept2hol3sjuui3v73arise3zoi45vkna</td><td>pyspark</td><td>IN_PROGRESS</td><td><a target=\"_blank\" href=\"https://console.us-phoenix-1.oraclecloud.com/data-flow/runs/details/ocid1.dataflowrun.oc1.ap-mumbai-1.anrg6ljrp77apcqa67hohjygp2vktovwtjm5k7swctcbie557levi45vju2a?region=ap-mumbai-1\">Dataflow Run</a></td></tr></table>"
      ],
      "text/plain": [
       "<IPython.core.display.HTML object>"
      ]
     },
     "metadata": {},
     "output_type": "display_data"
    },
    {
     "data": {
      "application/vnd.jupyter.widget-view+json": {
       "model_id": "",
       "version_major": 2,
       "version_minor": 0
      },
      "text/plain": [
       "FloatProgress(value=0.0, bar_style='info', description='Progress:', layout=Layout(height='25px', width='50%'),…"
      ]
     },
     "metadata": {},
     "output_type": "display_data"
    },
    {
     "name": "stdout",
     "output_type": "stream",
     "text": [
      "SparkSession available as 'spark'.\n",
      "SparkContext available as 'sc'.\n"
     ]
    }
   ],
   "source": [
    "#sessionId='ocid1.dataflowapplication.oc1.ap-mumbai-1.anrg6ljrp77apcqargbozp4blsxq6j2ughe6tyfxft5xfj3zdizyduzcst7q' # GETGO Version\n",
    "sessionId=''\n",
    "%use_session -s {sessionId}"
   ]
  },
  {
   "cell_type": "code",
   "execution_count": 38,
   "id": "aa3dda04",
   "metadata": {
    "tags": []
   },
   "outputs": [
    {
     "data": {
      "application/vnd.jupyter.widget-view+json": {
       "model_id": "",
       "version_major": 2,
       "version_minor": 0
      },
      "text/plain": [
       "FloatProgress(value=0.0, bar_style='info', description='Progress:', layout=Layout(height='25px', width='50%'),…"
      ]
     },
     "metadata": {},
     "output_type": "display_data"
    },
    {
     "name": "stdout",
     "output_type": "stream",
     "text": [
      "<pyspark.sql.session.SparkSession object at 0x7f186926db80>"
     ]
    }
   ],
   "source": [
    "%%spark\n",
    "print(spark)\n",
    "\n",
    "\n",
    "storage_account_name=\"\"\n",
    "\n",
    "\n",
    "client_id=\"\"\n",
    "client_secret=\"\"\n",
    "directory_id=\"\"\n",
    "\n",
    "#Set config params described above\n",
    "spark.conf.set(\"fs.azure.account.auth.type.\"+storage_account_name+\".dfs.core.windows.net\", \"OAuth\")\n",
    "spark.conf.set(\"fs.azure.account.oauth.provider.type.\"+storage_account_name+\".dfs.core.windows.net\", \"org.apache.hadoop.fs.azurebfs.oauth2.ClientCredsTokenProvider\")\n",
    "spark.conf.set(\"fs.azure.account.oauth2.client.id.\"+storage_account_name+\".dfs.core.windows.net\", client_id)\n",
    "spark.conf.set(\"fs.azure.account.oauth2.client.secret.\"+storage_account_name+\".dfs.core.windows.net\", client_secret)\n",
    "spark.conf.set(\"fs.azure.account.oauth2.client.endpoint.\"+storage_account_name+\".dfs.core.windows.net\", \"https://login.microsoftonline.com/\"+directory_id+\"/oauth2/token\")\n",
    "spark.conf.set(\"fs.azure.createRemoteFileSystemDuringInitialization\", \"false\")\n",
    "\n",
    "# spark.conf.set(\"spark.sql.catalog.spark_catalog\", \"org.apache.spark.sql.delta.catalog.DeltaCatalog\")\n",
    "# spark.conf.set(\"spark.delta.logStore.oci.impl\" , \"io.delta.storage.OracleCloudLogStore\")\n"
   ]
  },
  {
   "cell_type": "code",
   "execution_count": 39,
   "id": "c76150a7",
   "metadata": {
    "tags": []
   },
   "outputs": [
    {
     "data": {
      "application/vnd.jupyter.widget-view+json": {
       "model_id": "",
       "version_major": 2,
       "version_minor": 0
      },
      "text/plain": [
       "FloatProgress(value=0.0, bar_style='info', description='Progress:', layout=Layout(height='25px', width='50%'),…"
      ]
     },
     "metadata": {},
     "output_type": "display_data"
    },
    {
     "name": "stdout",
     "output_type": "stream",
     "text": [
      "+------------+-------------+-------------+----------------+--------------------+----------------------+-----------------------+--------------+--------------------+--------------------+---------------------+------+----------+----------+------+\n",
      "|tripduration|    starttime|     stoptime|start_station_id|  start_station_name|start_station_latitude|start_station_longitude|end_station_id|    end_station_name|end_station_latitude|end_station_longitude|bikeid|  usertype|birth_year|gender|\n",
      "+------------+-------------+-------------+----------------+--------------------+----------------------+-----------------------+--------------+--------------------+--------------------+---------------------+------+----------+----------+------+\n",
      "|         975|09/01/16 0:00|09/01/16 0:16|             312|Allen St & Stanto...|             40.722055|             -73.989111|           313|Washington Ave & ...|         40.69610226|         -73.96751037| 22609|Subscriber|      1985|     1|\n",
      "|        1220|09/01/16 0:00|09/01/16 0:20|             316|Fulton St & Willi...|           40.70955958|           -74.00653609|           239|Willoughby St & F...|         40.69196566|          -73.9813018| 16966|Subscriber|      1977|     2|\n",
      "|         308|09/01/16 0:00|09/01/16 0:05|             479|     9 Ave & W 45 St|           40.76019252|            -73.9912551|           448|    W 37 St & 10 Ave|         40.75660359|          -73.9979009| 25601|Subscriber|      1983|     1|\n",
      "|         250|09/01/16 0:00|09/01/16 0:04|             297|     E 15 St & 3 Ave|             40.734232|             -73.986923|           487| E 20 St & FDR Drive|         40.73314259|         -73.97573881| 22094|Subscriber|      1953|     1|\n",
      "|         439|09/01/16 0:00|09/01/16 0:07|             494|     W 26 St & 8 Ave|           40.74734825|           -73.99723551|           533|  Broadway & W 39 St|         40.75299641|         -73.98721619| 16319|Subscriber|      1985|     1|\n",
      "|         730|09/01/16 0:00|09/01/16 0:12|             491|E 24 St & Park Ave S|           40.74096374|           -73.98602213|           477|     W 41 St & 8 Ave|         40.75640548|          -73.9900262| 23730|Subscriber|      1986|     1|\n",
      "|         188|09/01/16 0:00|09/01/16 0:03|             531|Forsyth St & Broo...|           40.71893904|           -73.99266288|           361|Allen St & Hester St|         40.71605866|         -73.99190759| 22832|Subscriber|      1988|     2|\n",
      "|         776|09/01/16 0:00|09/01/16 0:13|             519|Pershing Square N...|             40.751873|             -73.977706|           237|     E 11 St & 2 Ave|         40.73047309|         -73.98672378| 14719|Subscriber|      1986|     1|\n",
      "|         622|09/01/16 0:00|09/01/16 0:11|             236| St Marks Pl & 2 Ave|            40.7284186|           -73.98713956|           254|     W 11 St & 6 Ave|         40.73532427|         -73.99800419| 26944|Subscriber|      1981|     1|\n",
      "|         756|09/01/16 0:00|09/01/16 0:13|             236| St Marks Pl & 2 Ave|            40.7284186|           -73.98713956|           168|     W 18 St & 6 Ave|         40.73971301|         -73.99456405| 20803|Subscriber|      1977|     1|\n",
      "|         186|09/01/16 0:00|09/01/16 0:04|            3382|Carroll St & Smit...|             40.680611|           -73.99475825|          3397|Court St & Nelson St|          40.6763947|         -73.99869893| 17638|Subscriber|      1980|     1|\n",
      "|        1246|09/01/16 0:00|09/01/16 0:21|             238|Bank St & Washing...|            40.7361967|           -74.00859207|           377|    6 Ave & Canal St|         40.72243797|         -74.00566443| 25729|Subscriber|      1988|     1|\n",
      "|        1445|09/01/16 0:00|09/01/16 0:24|             281|Grand Army Plaza ...|            40.7643971|           -73.97371465|          3314|  W 95 St & Broadway|          40.7937704|           -73.971888| 26359|Subscriber|      1989|     1|\n",
      "|        1435|09/01/16 0:00|09/01/16 0:24|             284|Greenwich Ave & 8...|           40.73901691|           -74.00263761|           387|Centre St & Chamb...|         40.71273266|          -74.0046073| 19672|Subscriber|      1969|     1|\n",
      "|        1106|09/01/16 0:00|09/01/16 0:19|             519|Pershing Square N...|             40.751873|             -73.977706|           433|  E 13 St & Avenue A|         40.72955361|         -73.98057249| 22819|Subscriber|      1975|     1|\n",
      "|        1920|09/01/16 0:01|09/01/16 0:33|             476|     E 31 St & 3 Ave|           40.74394314|           -73.97966069|           505|     6 Ave & W 33 St|         40.74901271|         -73.98848395| 23034|Subscriber|      1969|     1|\n",
      "|         441|09/01/16 0:01|09/01/16 0:08|            3091|Frost St & Meeker St|              40.71764|              -73.94882|          3113|Greenpoint Ave & ...|            40.73026|            -73.95394| 19387|Subscriber|      1963|     1|\n",
      "|         273|09/01/16 0:01|09/01/16 0:05|            3263|Cooper Square & E...|            40.7292365|           -73.99086803|           253|     W 13 St & 5 Ave|         40.73543934|         -73.99453948| 24115|Subscriber|      1943|     1|\n",
      "|         858|09/01/16 0:01|09/01/16 0:15|             116|     W 17 St & 8 Ave|           40.74177603|           -74.00149746|           116|     W 17 St & 8 Ave|         40.74177603|         -74.00149746| 18605|Subscriber|      1988|     1|\n",
      "|         973|09/01/16 0:01|09/01/16 0:17|             380|    W 4 St & 7 Ave S|           40.73401143|           -74.00293877|           511|  E 14 St & Avenue B|         40.72938685|         -73.97772429| 26543|Subscriber|      1994|     1|\n",
      "+------------+-------------+-------------+----------------+--------------------+----------------------+-----------------------+--------------+--------------------+--------------------+---------------------+------+----------+----------+------+\n",
      "only showing top 20 rows\n",
      "\n",
      "['tripduration', 'starttime', 'stoptime', 'start_station_id', 'start_station_name', 'start_station_latitude', 'start_station_longitude', 'end_station_id', 'end_station_name', 'end_station_latitude', 'end_station_longitude', 'bikeid', 'usertype', 'birth_year', 'gender']"
     ]
    }
   ],
   "source": [
    "%%spark \n",
    "\n",
    "path = \"\"\n",
    "df = spark.read.format(\"csv\").option(\"header\",\"true\").load(path)\n",
    "df.show()\n",
    "df.columns\n"
   ]
  },
  {
   "cell_type": "code",
   "execution_count": 51,
   "id": "e54ab2d4",
   "metadata": {},
   "outputs": [
    {
     "data": {
      "application/vnd.jupyter.widget-view+json": {
       "model_id": "",
       "version_major": 2,
       "version_minor": 0
      },
      "text/plain": [
       "FloatProgress(value=0.0, bar_style='info', description='Progress:', layout=Layout(height='25px', width='50%'),…"
      ]
     },
     "metadata": {},
     "output_type": "display_data"
    }
   ],
   "source": [
    "%%spark\n",
    "# df.write.format(\"csv\").option(\"header\",\"true\").save(\"oci://azure_dataflow@apaccpt03/demotohindalcocitibike.csv\")\n",
    "# df.write.format(\"delta\").save(\"oci://azure_dataflow@apaccpt03/demotohindalcocitibikedelta\")\n",
    "\n",
    "# df.write.format(\"csv\").option(\"header\",\"true\").save(\"oci://adw_spark@apaccpt03/demotohindalcocitibike.csv\")\n",
    "df.write.format(\"delta\").save(\"oci://adw_spark@apaccpt03/demotogetgo\")"
   ]
  },
  {
   "cell_type": "code",
   "execution_count": 34,
   "id": "85ea2b30",
   "metadata": {
    "tags": []
   },
   "outputs": [
    {
     "data": {
      "application/vnd.jupyter.widget-view+json": {
       "model_id": "",
       "version_major": 2,
       "version_minor": 0
      },
      "text/plain": [
       "FloatProgress(value=0.0, bar_style='info', description='Progress:', layout=Layout(height='25px', width='50%'),…"
      ]
     },
     "metadata": {},
     "output_type": "display_data"
    },
    {
     "name": "stdout",
     "output_type": "stream",
     "text": [
      "+------------+--------------+--------------+----------------+--------------------+----------------------+-----------------------+--------------+--------------------+--------------------+---------------------+------+----------+----------+------+\n",
      "|tripduration|     starttime|      stoptime|start_station_id|  start_station_name|start_station_latitude|start_station_longitude|end_station_id|    end_station_name|end_station_latitude|end_station_longitude|bikeid|  usertype|birth_year|gender|\n",
      "+------------+--------------+--------------+----------------+--------------------+----------------------+-----------------------+--------------+--------------------+--------------------+---------------------+------+----------+----------+------+\n",
      "|         252|09/11/16 19:45|09/11/16 19:50|             168|     W 18 St & 6 Ave|           40.73971301|           -73.99456405|           382|University Pl & E...|         40.73492695|         -73.99200509| 17079|Subscriber|      1992|     1|\n",
      "|         295|09/11/16 19:45|09/11/16 19:50|             462|    W 22 St & 10 Ave|           40.74691959|           -74.00451887|           435|     W 21 St & 6 Ave|         40.74173969|         -73.99415556| 20838|Subscriber|      1991|     2|\n",
      "|         426|09/11/16 19:45|09/11/16 19:53|              83|Atlantic Ave & Fo...|           40.68382604|           -73.97632328|            83|Atlantic Ave & Fo...|         40.68382604|         -73.97632328| 22279|Subscriber|      1969|     1|\n",
      "|         275|09/11/16 19:45|09/11/16 19:50|            3155|Lexington Ave & E...|           40.76440023|           -73.96648977|          3142|     1 Ave & E 62 St|          40.7612274|         -73.96094022| 16399|Subscriber|      1968|     1|\n",
      "|        1220|09/11/16 19:46|09/11/16 20:06|             459|    W 20 St & 11 Ave|             40.746745|             -74.007756|          3166|Riverside Dr & W ...|         40.78057799|         -73.98562431| 24203|  Customer|      null|     0|\n",
      "|         680|09/11/16 19:46|09/11/16 19:57|             336|Sullivan St & Was...|           40.73047747|           -73.99906065|           507|     E 25 St & 2 Ave|         40.73912601|         -73.97973776| 26605|Subscriber|      1959|     1|\n",
      "|         903|09/11/16 19:46|09/11/16 20:01|             531|Forsyth St & Broo...|           40.71893904|           -73.99266288|          3090| N 8 St & Driggs Ave|         40.71774592|         -73.95600096| 26012|Subscriber|      1995|     1|\n",
      "|        1324|09/11/16 19:46|09/11/16 20:08|            3177|  W 84 St & Broadway|            40.7867947|             -73.977112|          3336|E 97 St & Madison...|           40.787801|           -73.953559| 26596|Subscriber|      1990|     2|\n",
      "|         430|09/11/16 19:46|09/11/16 19:53|            3255|     8 Ave & W 31 St|           40.75058535|           -73.99468482|           476|     E 31 St & 3 Ave|         40.74394314|         -73.97966069| 22529|Subscriber|      1985|     1|\n",
      "|         897|09/11/16 19:46|09/11/16 20:01|            3343|W 107 St & Columb...|            40.7997568|           -73.96211287|          3171|Amsterdam Ave & W...|         40.78524672|         -73.97667321| 14697|Subscriber|      1961|     2|\n",
      "|         683|09/11/16 19:46|09/11/16 19:57|            3164|Columbus Ave & W ...|            40.7770575|           -73.97898475|          3301|Columbus Ave & W ...|          40.7919557|           -73.968087| 20382|Subscriber|      1985|     1|\n",
      "|         430|09/11/16 19:46|09/11/16 19:53|             345|     W 13 St & 6 Ave|           40.73649403|           -73.99704374|           358|Christopher St & ...|         40.73291553|         -74.00711384| 23252|Subscriber|      1986|     1|\n",
      "|         161|09/11/16 19:46|09/11/16 19:48|            3142|     1 Ave & E 62 St|            40.7612274|           -73.96094022|          3141|     1 Ave & E 68 St|         40.76500525|         -73.95818491| 16461|Subscriber|      1977|     1|\n",
      "|         305|09/11/16 19:46|09/11/16 19:51|             529|     W 42 St & 8 Ave|            40.7575699|           -73.99098507|           479|     9 Ave & W 45 St|         40.76019252|          -73.9912551| 24862|Subscriber|      1983|     1|\n",
      "|        1571|09/11/16 19:46|09/11/16 20:12|            3350| W 100 St & Broadway|            40.7973721|           -73.97041192|           457|  Broadway & W 58 St|         40.76695317|         -73.98169333| 18350|  Customer|      null|     0|\n",
      "|         480|09/11/16 19:46|09/11/16 19:54|             482|     W 15 St & 7 Ave|           40.73935542|           -73.99931783|           537|Lexington Ave & E...|         40.74025878|         -73.98409214| 25220|Subscriber|      1982|     1|\n",
      "|         612|09/11/16 19:46|09/11/16 19:56|             458|    11 Ave & W 27 St|             40.751396|             -74.005226|           477|     W 41 St & 8 Ave|         40.75640548|          -73.9900262| 25825|Subscriber|      1968|     1|\n",
      "|         333|09/11/16 19:46|09/11/16 19:51|             435|     W 21 St & 6 Ave|           40.74173969|           -73.99415556|           380|    W 4 St & 7 Ave S|         40.73401143|         -74.00293877| 26876|Subscriber|      1991|     1|\n",
      "|         786|09/11/16 19:46|09/11/16 19:59|             483|     E 12 St & 3 Ave|           40.73223272|           -73.98889957|           307|Canal St & Rutger...|         40.71427487|         -73.98990025| 23196|Subscriber|      1988|     1|\n",
      "|         481|09/11/16 19:46|09/11/16 19:54|            3416|     7 Ave & Park Pl|            40.6776147|           -73.97324283|           365|Fulton St & Grand...|         40.68223166|          -73.9614583| 22682|Subscriber|      1965|     1|\n",
      "+------------+--------------+--------------+----------------+--------------------+----------------------+-----------------------+--------------+--------------------+--------------------+---------------------+------+----------+----------+------+\n",
      "only showing top 20 rows\n",
      "\n",
      "DataFrame[tripduration: string, starttime: string, stoptime: string, start_station_id: string, start_station_name: string, start_station_latitude: string, start_station_longitude: string, end_station_id: string, end_station_name: string, end_station_latitude: string, end_station_longitude: string, bikeid: string, usertype: string, birth_year: string, gender: string]"
     ]
    }
   ],
   "source": [
    "%%spark\n",
    "deltadf=spark.read.format(\"delta\").load(\"oci://azure_dataflow@apaccpt03/demotohindalcocitibikedelta\").show()\n",
    "df\n"
   ]
  },
  {
   "cell_type": "code",
   "execution_count": 35,
   "id": "2b3d6d3a",
   "metadata": {
    "tags": []
   },
   "outputs": [
    {
     "data": {
      "application/vnd.jupyter.widget-view+json": {
       "model_id": "",
       "version_major": 2,
       "version_minor": 0
      },
      "text/plain": [
       "FloatProgress(value=0.0, bar_style='info', description='Progress:', layout=Layout(height='25px', width='50%'),…"
      ]
     },
     "metadata": {},
     "output_type": "display_data"
    },
    {
     "name": "stdout",
     "output_type": "stream",
     "text": [
      "+------------+\n",
      "|tripduration|\n",
      "+------------+\n",
      "|         975|\n",
      "|        1220|\n",
      "|         308|\n",
      "|         250|\n",
      "|         439|\n",
      "+------------+\n",
      "only showing top 5 rows"
     ]
    }
   ],
   "source": [
    "%%spark\n",
    "df.select([\"tripduration\"]).show(5)\n",
    "#print(deltadf.columns())"
   ]
  },
  {
   "cell_type": "code",
   "execution_count": 42,
   "id": "1484e5be",
   "metadata": {},
   "outputs": [
    {
     "data": {
      "application/vnd.jupyter.widget-view+json": {
       "model_id": "",
       "version_major": 2,
       "version_minor": 0
      },
      "text/plain": [
       "FloatProgress(value=0.0, bar_style='info', description='Progress:', layout=Layout(height='25px', width='50%'),…"
      ]
     },
     "metadata": {},
     "output_type": "display_data"
    }
   ],
   "source": [
    "%%spark\n",
    "newdf=(df.drop('tripduration'))\n",
    "newdf.write.format(\"delta\").mode(\"overwrite\").save(\"oci://azure_dataflow@apaccpt03/newcoe\")"
   ]
  },
  {
   "cell_type": "code",
   "execution_count": 111,
   "id": "069f0796",
   "metadata": {},
   "outputs": [
    {
     "data": {
      "application/vnd.jupyter.widget-view+json": {
       "model_id": "",
       "version_major": 2,
       "version_minor": 0
      },
      "text/plain": [
       "FloatProgress(value=0.0, bar_style='info', description='Progress:', layout=Layout(height='25px', width='50%'),…"
      ]
     },
     "metadata": {},
     "output_type": "display_data"
    },
    {
     "name": "stdout",
     "output_type": "stream",
     "text": [
      "+------------+\n",
      "|tripduration|\n",
      "+------------+\n",
      "|         975|\n",
      "|        1220|\n",
      "|         308|\n",
      "|         250|\n",
      "|         439|\n",
      "+------------+\n",
      "only showing top 5 rows"
     ]
    }
   ],
   "source": [
    "%%spark\n",
    "csvdf.select([\"tripduration\"]).show(5)"
   ]
  },
  {
   "cell_type": "code",
   "execution_count": 12,
   "id": "2583b3d1",
   "metadata": {},
   "outputs": [
    {
     "data": {
      "application/vnd.jupyter.widget-view+json": {
       "model_id": "",
       "version_major": 2,
       "version_minor": 0
      },
      "text/plain": [
       "FloatProgress(value=0.0, bar_style='info', description='Progress:', layout=Layout(height='25px', width='50%'),…"
      ]
     },
     "metadata": {},
     "output_type": "display_data"
    }
   ],
   "source": [
    "%%spark\n",
    "newdf=(deltadf.drop('tripduration'))\n",
    "newdf.write.format(\"delta\").mode(\"overwrite\").save(\"oci://azure_dataflow@apaccpt03/citibike_delta1019\")"
   ]
  },
  {
   "cell_type": "code",
   "execution_count": 15,
   "id": "2b5aa3e2",
   "metadata": {},
   "outputs": [
    {
     "data": {
      "application/vnd.jupyter.widget-view+json": {
       "model_id": "",
       "version_major": 2,
       "version_minor": 0
      },
      "text/plain": [
       "FloatProgress(value=0.0, bar_style='info', description='Progress:', layout=Layout(height='25px', width='50%'),…"
      ]
     },
     "metadata": {},
     "output_type": "display_data"
    }
   ],
   "source": [
    "%%spark\n",
    "ndeltadf=spark.read.format(\"delta\").option(\"versionAsOf\", 1).load(\"oci://azure_dataflow@apaccpt03/citibike_delta1019\")"
   ]
  },
  {
   "cell_type": "code",
   "execution_count": 16,
   "id": "810be043",
   "metadata": {},
   "outputs": [
    {
     "data": {
      "application/vnd.jupyter.widget-view+json": {
       "model_id": "",
       "version_major": 2,
       "version_minor": 0
      },
      "text/plain": [
       "FloatProgress(value=0.0, bar_style='info', description='Progress:', layout=Layout(height='25px', width='50%'),…"
      ]
     },
     "metadata": {},
     "output_type": "display_data"
    },
    {
     "name": "stdout",
     "output_type": "stream",
     "text": [
      "+------------+\n",
      "|tripduration|\n",
      "+------------+\n",
      "|        null|\n",
      "|        null|\n",
      "|        null|\n",
      "|        null|\n",
      "|        null|\n",
      "+------------+\n",
      "only showing top 5 rows"
     ]
    }
   ],
   "source": [
    "%%spark\n",
    "ndeltadf.select([\"tripduration\"]).show(5)"
   ]
  },
  {
   "cell_type": "code",
   "execution_count": 130,
   "id": "27aeda0f",
   "metadata": {},
   "outputs": [
    {
     "data": {
      "application/vnd.jupyter.widget-view+json": {
       "model_id": "",
       "version_major": 2,
       "version_minor": 0
      },
      "text/plain": [
       "FloatProgress(value=0.0, bar_style='info', description='Progress:', layout=Layout(height='25px', width='50%'),…"
      ]
     },
     "metadata": {},
     "output_type": "display_data"
    }
   ],
   "source": [
    "%%spark\n",
    "newdf=(deltadf.drop(col(\"tripduration\")))\n",
    "newdf.write.format(\"delta\").mode(\"overwrite\").save(\"oci://azure_dataflow@apaccpt03/citibike_delta\")"
   ]
  },
  {
   "cell_type": "code",
   "execution_count": 138,
   "id": "9aefe28f",
   "metadata": {},
   "outputs": [
    {
     "data": {
      "application/vnd.jupyter.widget-view+json": {
       "model_id": "",
       "version_major": 2,
       "version_minor": 0
      },
      "text/plain": [
       "FloatProgress(value=0.0, bar_style='info', description='Progress:', layout=Layout(height='25px', width='50%'),…"
      ]
     },
     "metadata": {},
     "output_type": "display_data"
    }
   ],
   "source": [
    "%%spark\n",
    "ndeltadf=spark.read.format(\"delta\").option(\"versionAsOf\", 5).load(\"oci://azure_dataflow@apaccpt03/citibike_delta\")"
   ]
  },
  {
   "cell_type": "code",
   "execution_count": 136,
   "id": "d0f9a03f",
   "metadata": {},
   "outputs": [
    {
     "data": {
      "application/vnd.jupyter.widget-view+json": {
       "model_id": "",
       "version_major": 2,
       "version_minor": 0
      },
      "text/plain": [
       "FloatProgress(value=0.0, bar_style='info', description='Progress:', layout=Layout(height='25px', width='50%'),…"
      ]
     },
     "metadata": {},
     "output_type": "display_data"
    },
    {
     "name": "stdout",
     "output_type": "stream",
     "text": [
      "+------------+\n",
      "|tripduration|\n",
      "+------------+\n",
      "|        null|\n",
      "|        null|\n",
      "|        null|\n",
      "|        null|\n",
      "|        null|\n",
      "+------------+\n",
      "only showing top 5 rows"
     ]
    }
   ],
   "source": [
    "%%spark\n",
    "ndeltadf.select([\"tripduration\"]).show(5)"
   ]
  },
  {
   "cell_type": "code",
   "execution_count": null,
   "id": "860c43a1",
   "metadata": {},
   "outputs": [],
   "source": []
  }
 ],
 "metadata": {
  "kernelspec": {
   "display_name": "Python [conda env:pyspark32_p38_cpu_v3]",
   "language": "python",
   "name": "conda-env-pyspark32_p38_cpu_v3-py"
  },
  "language_info": {
   "codemirror_mode": {
    "name": "ipython",
    "version": 3
   },
   "file_extension": ".py",
   "mimetype": "text/x-python",
   "name": "python",
   "nbconvert_exporter": "python",
   "pygments_lexer": "ipython3",
   "version": "3.8.16"
  }
 },
 "nbformat": 4,
 "nbformat_minor": 5
}
