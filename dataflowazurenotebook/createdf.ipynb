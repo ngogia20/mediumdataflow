{
 "cells": [
  {
   "cell_type": "raw",
   "id": "f252c16c",
   "metadata": {},
   "source": [
    "import json"
   ]
  },
  {
   "cell_type": "code",
   "execution_count": 15,
   "id": "f5310229",
   "metadata": {
    "tags": []
   },
   "outputs": [],
   "source": [
    "def prepare_command(command: dict) -> str:\n",
    "    \"\"\"Converts dictionary command to the string formatted commands.\"\"\"\n",
    "    return f\"'{json.dumps(command)}'\"\n",
    "\n"
   ]
  },
  {
   "cell_type": "code",
   "execution_count": 16,
   "id": "d4d33202",
   "metadata": {
    "tags": []
   },
   "outputs": [],
   "source": [
    "compartment_id = \"\"\n",
    "logs_bucket_uri = \"oci://31azure@apaccpt03/\"\n",
    "metastore_id = \"<metastore_id>\""
   ]
  },
  {
   "cell_type": "code",
   "execution_count": 17,
   "id": "00c43315",
   "metadata": {
    "tags": []
   },
   "outputs": [
    {
     "name": "stdout",
     "output_type": "stream",
     "text": [
      "The dataflow.magics extension is already loaded. To reload it, use:\n",
      "  %reload_ext dataflow.magics\n"
     ]
    }
   ],
   "source": [
    "get_ipython().run_line_magic('load_ext', 'dataflow.magics')"
   ]
  },
  {
   "cell_type": "code",
   "execution_count": 18,
   "id": "118e48c8",
   "metadata": {
    "tags": []
   },
   "outputs": [],
   "source": [
    "import json\n",
    "\n",
    "# Replace below with you Azure Account Details\n",
    "\n",
    "storage_account_name=\"\"\n",
    "client_id=\"\"\n",
    "client_secret=\"\"\n",
    "directory_id=\"\"\n",
    "\n",
    "command = prepare_command(\n",
    "    {\n",
    "        \"compartmentId\": compartment_id,\n",
    "        \"displayName\": \"DEMOTONAVITEAM410PM\",\n",
    "        \"language\": \"PYTHON\",\n",
    "        \"sparkVersion\": \"3.2.1\",\n",
    "        \"numExecutors\": 1,\n",
    "        \"driverShape\": \"VM.Standard.E4.Flex\",\n",
    "        \"executorShape\": \"VM.Standard.E4.Flex\",\n",
    "        \"driverShapeConfig\": {\"ocpus\": 1, \"memoryInGBs\": 16},\n",
    "        \"executorShapeConfig\": {\"ocpus\": 1, \"memoryInGBs\": 16},\n",
    "        \"type\": \"SESSION\",\n",
    "        \"logsBucketUri\": logs_bucket_uri,\n",
    "        \"archiveUri\": \"oci://yourocibucket@ocinamespace/archiveazure.zip\", # Replace here with your oci details\n",
    "        \"configuration\": {\n",
    "        \"fs.azure.account.auth.type.nikeshdatalake.dfs.core.windows.net\":\"OAuth\",\n",
    "        \"fs.azure.account.oauth.provider.type.nikeshdatalake.dfs.core.windows.net\":\"org.apache.hadoop.fs.azurebfs.oauth2.ClientCredsTokenProvider\",\n",
    "        \"fs.azure.account.oauth2.client.id.nikeshdatalake.dfs.core.windows.net\":client_id,\n",
    "        \"fs.azure.account.oauth2.client.secret.nikeshdatalake.dfs.core.windows.net\":client_secret,\n",
    "        \"fs.azure.account.oauth2.client.endpoint.nikeshdatalake.dfs.core.windows.net\":\"https://login.microsoftonline.com/\"+directory_id+\"/oauth2/token\",\n",
    "        \"fs.azure.createRemoteFileSystemDuringInitialization\":\"false\"\n",
    "    \n",
    "        }\n",
    "    }\n",
    ")\n"
   ]
  },
  {
   "cell_type": "code",
   "execution_count": 19,
   "id": "a5b8cb40",
   "metadata": {
    "tags": []
   },
   "outputs": [
    {
     "name": "stdout",
     "output_type": "stream",
     "text": [
      "Setting up the Cluster..\n"
     ]
    },
    {
     "data": {
      "application/vnd.jupyter.widget-view+json": {
       "model_id": "b4d76503d1d449b49d56aff02283c48d",
       "version_major": 2,
       "version_minor": 0
      },
      "text/plain": [
       "FloatProgress(value=0.0, bar_style='info', description='Progress:', layout=Layout(height='25px', width='50%'),…"
      ]
     },
     "metadata": {},
     "output_type": "display_data"
    },
    {
     "name": "stdout",
     "output_type": "stream",
     "text": [
      "Cluster is ready..\n",
      "Starting Spark application..\n"
     ]
    },
    {
     "data": {
      "text/html": [
       "<table>\n",
       "<tr><th>Session ID</th><th>Kind</th><th>State</th><th>Current session</th></tr><tr><td>ocid1.dataflowapplication.oc1.ap-mumbai-1.anrg6ljrp77apcqacbr4onyskzrqwbmot7r3ybmmf4lehwjbvezb5tuixfkq</td><td>pyspark</td><td>IN_PROGRESS</td><td><a target=\"_blank\" href=\"https://console.us-phoenix-1.oraclecloud.com/data-flow/runs/details/ocid1.dataflowrun.oc1.ap-mumbai-1.anrg6ljrp77apcqa5qtzsdccbzzawxxcwgohkyycofnayb5uvqlo4aqcyz5a?region=ap-mumbai-1\">Dataflow Run</a></td></tr></table>"
      ],
      "text/plain": [
       "<IPython.core.display.HTML object>"
      ]
     },
     "metadata": {},
     "output_type": "display_data"
    },
    {
     "data": {
      "application/vnd.jupyter.widget-view+json": {
       "model_id": "",
       "version_major": 2,
       "version_minor": 0
      },
      "text/plain": [
       "FloatProgress(value=0.0, bar_style='info', description='Progress:', layout=Layout(height='25px', width='50%'),…"
      ]
     },
     "metadata": {},
     "output_type": "display_data"
    },
    {
     "name": "stdout",
     "output_type": "stream",
     "text": [
      "SparkSession available as 'spark'.\n",
      "SparkContext available as 'sc'.\n"
     ]
    }
   ],
   "source": [
    "get_ipython().run_line_magic('create_session', '-l python -c $command')"
   ]
  },
  {
   "cell_type": "code",
   "execution_count": null,
   "id": "044ef28f",
   "metadata": {},
   "outputs": [],
   "source": []
  }
 ],
 "metadata": {
  "kernelspec": {
   "display_name": "Python [conda env:pyspark32_p38_cpu_v3]",
   "language": "python",
   "name": "conda-env-pyspark32_p38_cpu_v3-py"
  },
  "language_info": {
   "codemirror_mode": {
    "name": "ipython",
    "version": 3
   },
   "file_extension": ".py",
   "mimetype": "text/x-python",
   "name": "python",
   "nbconvert_exporter": "python",
   "pygments_lexer": "ipython3",
   "version": "3.8.16"
  }
 },
 "nbformat": 4,
 "nbformat_minor": 5
}
